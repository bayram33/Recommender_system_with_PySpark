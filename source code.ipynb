{
 "cells": [
  {
   "cell_type": "code",
   "execution_count": 1,
   "id": "ca995778-d79f-4c80-bd6a-43bbd2952d7d",
   "metadata": {},
   "outputs": [],
   "source": [
    "import warnings\n",
    "warnings.filterwarnings(\"ignore\")"
   ]
  },
  {
   "cell_type": "code",
   "execution_count": 2,
   "id": "1b9a46c3-4223-4d28-8981-0eba6e56563a",
   "metadata": {
    "tags": []
   },
   "outputs": [
    {
     "name": "stdout",
     "output_type": "stream",
     "text": [
      "Requirement already satisfied: findspark in c:\\users\\bayram\\anaconda3\\lib\\site-packages (2.0.1)\n"
     ]
    }
   ],
   "source": [
    "#Execution calculation start here and \n",
    "import time\n",
    "startTime=time.time()\n",
    "\n",
    "# Install the findspark here\n",
    "!pip install findspark"
   ]
  },
  {
   "cell_type": "code",
   "execution_count": 3,
   "id": "ed344542-ebdf-4bc7-ac1d-d35b39b0b844",
   "metadata": {},
   "outputs": [],
   "source": [
    "# Import the findspark and initialize here \n",
    "import findspark \n",
    "findspark.init(\"C:\\spark\")"
   ]
  },
  {
   "cell_type": "code",
   "execution_count": 4,
   "id": "098ce17f-5d09-4358-90a2-e64e7a47bafd",
   "metadata": {},
   "outputs": [
    {
     "data": {
      "text/html": [
       "\n",
       "        <div>\n",
       "            <p><b>SparkContext</b></p>\n",
       "\n",
       "            <p><a href=\"http://DESKTOP-VAJEO53.local:4040\">Spark UI</a></p>\n",
       "\n",
       "            <dl>\n",
       "              <dt>Version</dt>\n",
       "                <dd><code>v3.3.2</code></dd>\n",
       "              <dt>Master</dt>\n",
       "                <dd><code>local</code></dd>\n",
       "              <dt>AppName</dt>\n",
       "                <dd><code>final</code></dd>\n",
       "            </dl>\n",
       "        </div>\n",
       "        "
      ],
      "text/plain": [
       "<SparkContext master=local appName=final>"
      ]
     },
     "execution_count": 4,
     "metadata": {},
     "output_type": "execute_result"
    }
   ],
   "source": [
    "# Import the necessary library and start the SparkSession here \n",
    "import pyspark as ps \n",
    "from pyspark.sql import SparkSession\n",
    "from pyspark.conf import SparkConf\n",
    "from pyspark import SparkContext\n",
    "from pyspark.sql import SQLContext\n",
    "from pyspark.sql.functions import col,isnan, when, count\n",
    "from pyspark.ml.evaluation import RegressionEvaluator\n",
    "from pyspark.ml.tuning import CrossValidator,ParamGridBuilder \n",
    "from pyspark.ml import Pipeline\n",
    "from pyspark.sql import Row\n",
    "from pyspark.ml.recommendation import ALS\n",
    "from pyspark.sql.functions import udf, col, when\n",
    "import numpy as np\n",
    "import seaborn as sns \n",
    "\n",
    "spark=SparkSession.builder\\\n",
    "    .master(\"local\")\\\n",
    "    .appName(\"final\")\\\n",
    "    .getOrCreate()\n",
    "sc=spark.sparkContext\n",
    "sqlContext=SQLContext(sc)\n",
    "\n",
    "sc"
   ]
  },
  {
   "cell_type": "code",
   "execution_count": 5,
   "id": "bffd5fbd-893f-432e-a9f5-f5f4bab94ed5",
   "metadata": {},
   "outputs": [
    {
     "name": "stdout",
     "output_type": "stream",
     "text": [
      "Hostname :   DESKTOP-VAJEO53\n",
      "IP :  192.168.1.42\n"
     ]
    }
   ],
   "source": [
    "# host name and ip address \n",
    "import socket \n",
    "def get_Host_name_IP():\n",
    "    try:\n",
    "        host_name = socket.gethostname()\n",
    "        host_ip = socket.gethostbyname(host_name)\n",
    "        print(\"Hostname :  \", host_name)\n",
    "        print(\"IP : \", host_ip)\n",
    "    except:\n",
    "        print(\"Unable to get Hostname and IP\")\n",
    "\n",
    "get_Host_name_IP()"
   ]
  },
  {
   "cell_type": "code",
   "execution_count": 6,
   "id": "5dc4aa19-4a85-43cc-a645-cdec7e927dea",
   "metadata": {},
   "outputs": [
    {
     "name": "stdout",
     "output_type": "stream",
     "text": [
      "root\n",
      " |-- book_id: integer (nullable = true)\n",
      " |-- user_id: integer (nullable = true)\n",
      " |-- rating: integer (nullable = true)\n",
      "\n"
     ]
    }
   ],
   "source": [
    "df_ratings=spark.read.csv(\"data/ratings.csv\" , header=True , inferSchema=True)\n",
    "df_ratings.printSchema()"
   ]
  },
  {
   "cell_type": "code",
   "execution_count": 7,
   "id": "e44d0d61-19d7-4bb9-b6e8-227fe861495f",
   "metadata": {},
   "outputs": [
    {
     "name": "stdout",
     "output_type": "stream",
     "text": [
      "+-------+-------+------+\n",
      "|book_id|user_id|rating|\n",
      "+-------+-------+------+\n",
      "|      0|      0|     0|\n",
      "+-------+-------+------+\n",
      "\n"
     ]
    }
   ],
   "source": [
    "df_ratings.select([count(when(isnan(c) | col(c).isNull(), c)).alias(c) for c in df_ratings.columns]\n",
    "   ).show()"
   ]
  },
  {
   "cell_type": "code",
   "execution_count": 8,
   "id": "7a6d5d79-f7ec-4b4f-ada4-42a991aef781",
   "metadata": {},
   "outputs": [
    {
     "name": "stdout",
     "output_type": "stream",
     "text": [
      "+-------+-------+------+\n",
      "|book_id|user_id|rating|\n",
      "+-------+-------+------+\n",
      "|      1|    314|     5|\n",
      "|      1|    439|     3|\n",
      "|      1|    588|     5|\n",
      "|      1|   1169|     4|\n",
      "|      1|   1185|     4|\n",
      "+-------+-------+------+\n",
      "only showing top 5 rows\n",
      "\n"
     ]
    }
   ],
   "source": [
    "df_ratings.show(5)"
   ]
  },
  {
   "cell_type": "code",
   "execution_count": 9,
   "id": "0e8ce907-b7d7-4d50-bbf9-b9b2988095d9",
   "metadata": {},
   "outputs": [
    {
     "data": {
      "text/plain": [
       "981756"
      ]
     },
     "execution_count": 9,
     "metadata": {},
     "output_type": "execute_result"
    }
   ],
   "source": [
    "df_ratings.count()"
   ]
  },
  {
   "cell_type": "code",
   "execution_count": 10,
   "id": "9ce44ef2-574b-4ede-9dfa-4d4199421e6b",
   "metadata": {
    "tags": []
   },
   "outputs": [
    {
     "name": "stdout",
     "output_type": "stream",
     "text": [
      "root\n",
      " |-- id: integer (nullable = true)\n",
      " |-- book_id: integer (nullable = true)\n",
      " |-- best_book_id: integer (nullable = true)\n",
      " |-- work_id: integer (nullable = true)\n",
      " |-- books_count: integer (nullable = true)\n",
      " |-- isbn: string (nullable = true)\n",
      " |-- isbn13: double (nullable = true)\n",
      " |-- authors: string (nullable = true)\n",
      " |-- original_publication_year: double (nullable = true)\n",
      " |-- original_title: string (nullable = true)\n",
      " |-- title: string (nullable = true)\n",
      " |-- language_code: string (nullable = true)\n",
      " |-- average_rating: string (nullable = true)\n",
      " |-- ratings_count: string (nullable = true)\n",
      " |-- work_ratings_count: string (nullable = true)\n",
      " |-- work_text_reviews_count: string (nullable = true)\n",
      " |-- ratings_1: double (nullable = true)\n",
      " |-- ratings_2: integer (nullable = true)\n",
      " |-- ratings_3: integer (nullable = true)\n",
      " |-- ratings_4: integer (nullable = true)\n",
      " |-- ratings_5: integer (nullable = true)\n",
      " |-- image_url: string (nullable = true)\n",
      " |-- small_image_url: string (nullable = true)\n",
      "\n"
     ]
    }
   ],
   "source": [
    "df_books=spark.read.csv(\"data/books.csv\" , header=True , inferSchema=True)\n",
    "df_books.printSchema()"
   ]
  },
  {
   "cell_type": "code",
   "execution_count": 11,
   "id": "335ff9b9-9800-4f29-a458-a337262fea6d",
   "metadata": {},
   "outputs": [
    {
     "name": "stdout",
     "output_type": "stream",
     "text": [
      "+---+-------+------------+-------+-----------+---------+----------------+---------------+-------------------------+----------------+--------------------+-------------+--------------+-------------+------------------+-----------------------+---------+---------+---------+---------+---------+--------------------+--------------------+\n",
      "| id|book_id|best_book_id|work_id|books_count|     isbn|          isbn13|        authors|original_publication_year|  original_title|               title|language_code|average_rating|ratings_count|work_ratings_count|work_text_reviews_count|ratings_1|ratings_2|ratings_3|ratings_4|ratings_5|           image_url|     small_image_url|\n",
      "+---+-------+------------+-------+-----------+---------+----------------+---------------+-------------------------+----------------+--------------------+-------------+--------------+-------------+------------------+-----------------------+---------+---------+---------+---------+---------+--------------------+--------------------+\n",
      "|  1|2767052|     2767052|2792775|        272|439023483|9.78043902348E12|Suzanne Collins|                   2008.0|The Hunger Games|The Hunger Games ...|          eng|          4.34|      4780653|           4942365|                 155254|  66715.0|   127936|   560092|  1481305|  2706317|https://images.gr...|https://images.gr...|\n",
      "+---+-------+------------+-------+-----------+---------+----------------+---------------+-------------------------+----------------+--------------------+-------------+--------------+-------------+------------------+-----------------------+---------+---------+---------+---------+---------+--------------------+--------------------+\n",
      "only showing top 1 row\n",
      "\n"
     ]
    }
   ],
   "source": [
    "df_books.show(1)"
   ]
  },
  {
   "cell_type": "code",
   "execution_count": 12,
   "id": "3fcf20e5-4be7-4d9b-93ff-d4cad2bd5523",
   "metadata": {},
   "outputs": [],
   "source": [
    "traning_df , validation_df = df_ratings.randomSplit([0.7 , 0.3])"
   ]
  },
  {
   "cell_type": "code",
   "execution_count": 13,
   "id": "2d153acd-72fc-4ca6-92c5-5806d34abdaf",
   "metadata": {},
   "outputs": [
    {
     "data": {
      "text/plain": [
       "687283"
      ]
     },
     "execution_count": 13,
     "metadata": {},
     "output_type": "execute_result"
    }
   ],
   "source": [
    "traning_df.count()"
   ]
  },
  {
   "cell_type": "code",
   "execution_count": 14,
   "id": "8b9af5c4-4e2a-48a5-b1a9-bb6175b394fc",
   "metadata": {},
   "outputs": [
    {
     "data": {
      "text/plain": [
       "294473"
      ]
     },
     "execution_count": 14,
     "metadata": {},
     "output_type": "execute_result"
    }
   ],
   "source": [
    "validation_df.count()"
   ]
  },
  {
   "cell_type": "code",
   "execution_count": 15,
   "id": "32c616ef-7734-4560-a8ba-26178bb8beb0",
   "metadata": {},
   "outputs": [
    {
     "name": "stdout",
     "output_type": "stream",
     "text": [
      "Root Mean Square Value  ===> 0.9275607705516028\n"
     ]
    }
   ],
   "source": [
    "als=ALS(\n",
    "        userCol=\"user_id\" , \n",
    "        itemCol=\"book_id\" ,\n",
    "        ratingCol=\"rating\" \n",
    "       )\n",
    "model=als.fit(traning_df)\n",
    "predicts=model.transform(validation_df)\n",
    "new_predicts=predicts.filter(col(\"prediction\") != np.nan)\n",
    "evaluator=RegressionEvaluator(metricName=\"rmse\" , labelCol=\"rating\" , predictionCol=\"prediction\")\n",
    "rmse=evaluator.evaluate(new_predicts)\n",
    "print(\"Root Mean Square Value  ===> \" + str(rmse))"
   ]
  },
  {
   "cell_type": "code",
   "execution_count": 16,
   "id": "ddc22e2e-6e3d-484e-bebe-a73807f7102b",
   "metadata": {},
   "outputs": [],
   "source": [
    "df_train=traning_df.toPandas()"
   ]
  },
  {
   "cell_type": "code",
   "execution_count": 17,
   "id": "32ec971f-7fae-4014-b7de-a2a624c02fc1",
   "metadata": {
    "tags": []
   },
   "outputs": [
    {
     "data": {
      "text/plain": [
       "<AxesSubplot:>"
      ]
     },
     "execution_count": 17,
     "metadata": {},
     "output_type": "execute_result"
    },
    {
     "data": {
      "image/png": "[encoded data removed]",
      "text/plain": [
       "<Figure size 432x288 with 1 Axes>"
      ]
     },
     "metadata": {
      "needs_background": "light"
     },
     "output_type": "display_data"
    }
   ],
   "source": [
    "df_train['rating'].hist()"
   ]
  },
  {
   "cell_type": "code",
   "execution_count": 18,
   "id": "1f20301f-fd45-40b0-8558-421dd307ee18",
   "metadata": {},
   "outputs": [
    {
     "data": {
      "text/plain": [
       "<AxesSubplot:xlabel='rating', ylabel='count'>"
      ]
     },
     "execution_count": 18,
     "metadata": {},
     "output_type": "execute_result"
    },
    {
     "data": {
      "image/png": "[encoded data removed]",
      "text/plain": [
       "<Figure size 432x288 with 1 Axes>"
      ]
     },
     "metadata": {
      "needs_background": "light"
     },
     "output_type": "display_data"
    }
   ],
   "source": [
    "sns.countplot(df_train['rating'])"
   ]
  },
  {
   "cell_type": "code",
   "execution_count": 19,
   "id": "0cf57b04-a6e9-461c-9ee3-4c9643466bb6",
   "metadata": {},
   "outputs": [],
   "source": [
    "df_valide=validation_df.toPandas()"
   ]
  },
  {
   "cell_type": "code",
   "execution_count": 20,
   "id": "7c83a704-b4c2-407c-b675-a9a6d0b47bca",
   "metadata": {},
   "outputs": [
    {
     "data": {
      "text/plain": [
       "<AxesSubplot:>"
      ]
     },
     "execution_count": 20,
     "metadata": {},
     "output_type": "execute_result"
    },
    {
     "data": {
      "image/png": "[encoded data removed]",
      "text/plain": [
       "<Figure size 432x288 with 1 Axes>"
      ]
     },
     "metadata": {
      "needs_background": "light"
     },
     "output_type": "display_data"
    }
   ],
   "source": [
    "df_valide[\"rating\"].hist()"
   ]
  },
  {
   "cell_type": "code",
   "execution_count": 21,
   "id": "52144451-828d-401a-b321-543b7654da09",
   "metadata": {},
   "outputs": [
    {
     "data": {
      "text/plain": [
       "<AxesSubplot:xlabel='rating', ylabel='count'>"
      ]
     },
     "execution_count": 21,
     "metadata": {},
     "output_type": "execute_result"
    },
    {
     "data": {
      "image/png": "[encoded data removed]",
      "text/plain": [
       "<Figure size 432x288 with 1 Axes>"
      ]
     },
     "metadata": {
      "needs_background": "light"
     },
     "output_type": "display_data"
    }
   ],
   "source": [
    "sns.countplot(df_valide[\"rating\"])"
   ]
  },
  {
   "cell_type": "code",
   "execution_count": 77,
   "id": "efabbdc0-8e2f-4dc4-927d-fb23033c4d96",
   "metadata": {},
   "outputs": [],
   "source": [
    "iterations=10    #Default value\n",
    "regularization_paramater=0.1\n",
    "rank=4"
   ]
  },
  {
   "cell_type": "code",
   "execution_count": 78,
   "id": "644a57ef-750c-4000-b524-cb0446bb5f94",
   "metadata": {},
   "outputs": [
    {
     "name": "stdout",
     "output_type": "stream",
     "text": [
      "Root Mean Square Value  ===> 0.9097206255794003\n"
     ]
    }
   ],
   "source": [
    "als1=ALS(maxIter=iterations ,\n",
    "        regParam=regularization_paramater ,\n",
    "        rank=4 , \n",
    "        userCol=\"user_id\" , \n",
    "        itemCol=\"book_id\" ,\n",
    "        ratingCol=\"rating\" \n",
    "       )\n",
    "model=als1.fit(traning_df)\n",
    "predicts=model.transform(validation_df)\n",
    "new_predicts=predicts.filter(col(\"prediction\") != np.nan)\n",
    "evaluator=RegressionEvaluator(metricName=\"rmse\" , labelCol=\"rating\" , predictionCol=\"prediction\")\n",
    "rmse=evaluator.evaluate(new_predicts)\n",
    "print(\"Root Mean Square Value  ===> \" + str(rmse))"
   ]
  },
  {
   "cell_type": "code",
   "execution_count": null,
   "id": "945c38a1-0de3-4384-9d8c-32f99a46d66c",
   "metadata": {},
   "outputs": [],
   "source": []
  },
  {
   "cell_type": "code",
   "execution_count": null,
   "id": "a06adab3-a434-416b-bb97-c509a9a58927",
   "metadata": {},
   "outputs": [],
   "source": [
    "als2=ALS(maxIter=iterations ,\n",
    "        regParam=regularization_paramater ,\n",
    "        rank=5, \n",
    "        userCol=\"user_id\" , \n",
    "        itemCol=\"book_id\" ,\n",
    "        ratingCol=\"rating\" \n",
    "       )\n",
    "model=als2.fit(traning_df)\n",
    "predicts=model.transform(validation_df)\n",
    "new_predicts=predicts.filter(col(\"prediction\") != np.nan)\n",
    "evaluator=RegressionEvaluator(metricName=\"rmse\" , labelCol=\"rating\" , predictionCol=\"prediction\")\n",
    "rmse=evaluator.evaluate(new_predicts)\n",
    "print(\"Root Mean Square Value  ===> \" + str(rmse))"
   ]
  },
  {
   "cell_type": "code",
   "execution_count": 48,
   "id": "03eb313c-2c47-4299-95d0-9c94b0768f99",
   "metadata": {
    "tags": []
   },
   "outputs": [
    {
     "name": "stdout",
     "output_type": "stream",
     "text": [
      "Rank 10 Root Me an Square Value  ===> 0.9234879371383912\n",
      "Rank 50 Root Me an Square Value  ===> 0.9005091657700605\n",
      "Rank 200 Root Me an Square Value  ===> 0.886554605457666\n"
     ]
    }
   ],
   "source": [
    "for rank in [10,50,200]:\n",
    "    als3=ALS(maxIter=iterations ,\n",
    "        regParam=regularization_paramater ,\n",
    "        rank=rank , \n",
    "        userCol=\"user_id\" , \n",
    "        itemCol=\"book_id\" ,\n",
    "        ratingCol=\"rating\" \n",
    "       )\n",
    "    model=als3.fit(traning_df)\n",
    "    predicts=model.transform(validation_df)\n",
    "    new_predicts=predicts.filter(col(\"prediction\") != np.nan)\n",
    "    evaluator=RegressionEvaluator(metricName=\"rmse\" , labelCol=\"rating\" , predictionCol=\"prediction\")\n",
    "    rmse=evaluator.evaluate(new_predicts)\n",
    "    print(\"Rank\" ,rank , \"Root Me an Square Value  ===> \" + str(rmse))\n",
    "    "
   ]
  },
  {
   "cell_type": "code",
   "execution_count": null,
   "id": "05b76a11-c1cf-461e-8f4b-7425a459d492",
   "metadata": {},
   "outputs": [],
   "source": [
    "for seed in [5,0,1,8]:\n",
    "    als4=ALS(maxIter=iterations ,\n",
    "        regParam=regularization_paramater ,\n",
    "        rank=200 , \n",
    "        seed=seed,\n",
    "        userCol=\"user_id\" , \n",
    "        itemCol=\"book_id\" ,\n",
    "        ratingCol=\"rating\" \n",
    "       )\n",
    "    model=als4.fit(traning_df) \n",
    "    predicts=model.transform(validation_df)\n",
    "    new_predicts=predicts.filter(col(\"prediction\") != np.nan)\n",
    "    evaluator=RegressionEvaluator(metricName=\"rmse\" , labelCol=\"rating\" , predictionCol=\"prediction\")\n",
    "    rmse=evaluator.evaluate(new_predicts)\n",
    "    print(\"Rank\" ,seed , \"Root Me an Square Value  ===> \" + str(rmse))\n",
    "    "
   ]
  },
  {
   "cell_type": "code",
   "execution_count": 71,
   "id": "7fdc198d-a088-4fe0-b596-81968c0e3fd2",
   "metadata": {},
   "outputs": [],
   "source": [
    "from sklearn.model_selection import GridSearchCV, RandomizedSearchCV\n",
    "from sklearn.metrics import mean_squared_error, accuracy_score\n",
    "from sklearn.model_selection import train_test_split"
   ]
  },
  {
   "cell_type": "code",
   "execution_count": 72,
   "id": "dfc864a9-3c6c-492a-b743-458a89d212a4",
   "metadata": {},
   "outputs": [],
   "source": [
    "data=df_ratings.toPandas()\n",
    "data.head(3)\n",
    "\n",
    "X=data.drop( columns=\"rating\" , axis=1)\n",
    "Y=data[\"rating\"]\n",
    "\n",
    "x_train,x_test,y_train,y_test=train_test_split(X , Y , test_size=0.3, random_state=33)"
   ]
  },
  {
   "cell_type": "code",
   "execution_count": 74,
   "id": "d84fe331-0983-45a8-a6d3-d19b33c40705",
   "metadata": {},
   "outputs": [
    {
     "name": "stdout",
     "output_type": "stream",
     "text": [
      "(687229, 2) (294527, 2) (687229,) (294527,)\n"
     ]
    }
   ],
   "source": [
    "print(x_train.shape , x_test.shape , y_train.shape , y_test.shape)"
   ]
  },
  {
   "cell_type": "code",
   "execution_count": 80,
   "id": "a05c6094-f57d-4a0d-87ad-4e06d940968f",
   "metadata": {
    "collapsed": true,
    "jupyter": {
     "outputs_hidden": true
    },
    "tags": []
   },
   "outputs": [
    {
     "ename": "TypeError",
     "evalue": "Cannot clone object 'ALS_7d968b851f8c' (type <class 'pyspark.ml.recommendation.ALS'>): it does not seem to be a scikit-learn estimator as it does not implement a 'get_params' method.",
     "output_type": "error",
     "traceback": [
      "\u001b[1;31m---------------------------------------------------------------------------\u001b[0m",
      "\u001b[1;31mTypeError\u001b[0m                                 Traceback (most recent call last)",
      "Input \u001b[1;32mIn [80]\u001b[0m, in \u001b[0;36m<cell line: 7>\u001b[1;34m()\u001b[0m\n\u001b[0;32m      1\u001b[0m rf_params \u001b[38;5;241m=\u001b[39m {\u001b[38;5;124m'\u001b[39m\u001b[38;5;124mseed\u001b[39m\u001b[38;5;124m'\u001b[39m: [\u001b[38;5;241m5\u001b[39m,\u001b[38;5;241m0\u001b[39m,\u001b[38;5;241m1\u001b[39m,\u001b[38;5;241m8\u001b[39m],\n\u001b[0;32m      2\u001b[0m     \u001b[38;5;124m'\u001b[39m\u001b[38;5;124mrank\u001b[39m\u001b[38;5;124m'\u001b[39m: [\u001b[38;5;241m10\u001b[39m,\u001b[38;5;241m50\u001b[39m,\u001b[38;5;241m200\u001b[39m],\n\u001b[0;32m      3\u001b[0m     \u001b[38;5;124m'\u001b[39m\u001b[38;5;124miteration\u001b[39m\u001b[38;5;124m'\u001b[39m: [\u001b[38;5;241m10\u001b[39m,\u001b[38;5;241m50\u001b[39m,\u001b[38;5;241m200\u001b[39m],\n\u001b[0;32m      4\u001b[0m     \u001b[38;5;124m'\u001b[39m\u001b[38;5;124mlambda\u001b[39m\u001b[38;5;124m'\u001b[39m: [\u001b[38;5;241m0.01\u001b[39m,\u001b[38;5;241m0.1\u001b[39m],\n\u001b[0;32m      5\u001b[0m     }\n\u001b[1;32m----> 7\u001b[0m als_gridcv_model \u001b[38;5;241m=\u001b[39m \u001b[43mGridSearchCV\u001b[49m\u001b[43m(\u001b[49m\u001b[43mestimator\u001b[49m\u001b[38;5;241;43m=\u001b[39;49m\u001b[43mals\u001b[49m\u001b[43m \u001b[49m\u001b[43m,\u001b[49m\u001b[43m \u001b[49m\u001b[43mparam_grid\u001b[49m\u001b[38;5;241;43m=\u001b[39;49m\u001b[43mrf_params\u001b[49m\u001b[43m \u001b[49m\u001b[43m,\u001b[49m\u001b[43m \u001b[49m\u001b[43mcv\u001b[49m\u001b[38;5;241;43m=\u001b[39;49m\u001b[38;5;241;43m5\u001b[39;49m\u001b[43m,\u001b[49m\u001b[43mscoring\u001b[49m\u001b[38;5;241;43m=\u001b[39;49m\u001b[38;5;124;43m'\u001b[39;49m\u001b[38;5;124;43maccuracy\u001b[39;49m\u001b[38;5;124;43m'\u001b[39;49m\u001b[43m,\u001b[49m\u001b[43m \u001b[49m\u001b[43mn_jobs\u001b[49m\u001b[38;5;241;43m=\u001b[39;49m\u001b[38;5;241;43m-\u001b[39;49m\u001b[38;5;241;43m1\u001b[39;49m\u001b[43m,\u001b[49m\u001b[43m \u001b[49m\u001b[43mverbose\u001b[49m\u001b[38;5;241;43m=\u001b[39;49m\u001b[38;5;241;43m2\u001b[39;49m\u001b[43m)\u001b[49m\u001b[38;5;241;43m.\u001b[39;49m\u001b[43mfit\u001b[49m\u001b[43m(\u001b[49m\u001b[43mx_train\u001b[49m\u001b[43m,\u001b[49m\u001b[43my_train\u001b[49m\u001b[43m)\u001b[49m\n\u001b[0;32m      9\u001b[0m \u001b[38;5;28mprint\u001b[39m(\u001b[38;5;124m'\u001b[39m\u001b[38;5;124mrf gridcv model accuracy score = \u001b[39m\u001b[38;5;132;01m{}\u001b[39;00m\u001b[38;5;124m'\u001b[39m\u001b[38;5;241m.\u001b[39mformat(als_gridcv_model\u001b[38;5;241m.\u001b[39mbest_params_))\n",
      "File \u001b[1;32m~\\anaconda3\\lib\\site-packages\\sklearn\\model_selection\\_search.py:805\u001b[0m, in \u001b[0;36mBaseSearchCV.fit\u001b[1;34m(self, X, y, groups, **fit_params)\u001b[0m\n\u001b[0;32m    802\u001b[0m cv_orig \u001b[38;5;241m=\u001b[39m check_cv(\u001b[38;5;28mself\u001b[39m\u001b[38;5;241m.\u001b[39mcv, y, classifier\u001b[38;5;241m=\u001b[39mis_classifier(estimator))\n\u001b[0;32m    803\u001b[0m n_splits \u001b[38;5;241m=\u001b[39m cv_orig\u001b[38;5;241m.\u001b[39mget_n_splits(X, y, groups)\n\u001b[1;32m--> 805\u001b[0m base_estimator \u001b[38;5;241m=\u001b[39m \u001b[43mclone\u001b[49m\u001b[43m(\u001b[49m\u001b[38;5;28;43mself\u001b[39;49m\u001b[38;5;241;43m.\u001b[39;49m\u001b[43mestimator\u001b[49m\u001b[43m)\u001b[49m\n\u001b[0;32m    807\u001b[0m parallel \u001b[38;5;241m=\u001b[39m Parallel(n_jobs\u001b[38;5;241m=\u001b[39m\u001b[38;5;28mself\u001b[39m\u001b[38;5;241m.\u001b[39mn_jobs, pre_dispatch\u001b[38;5;241m=\u001b[39m\u001b[38;5;28mself\u001b[39m\u001b[38;5;241m.\u001b[39mpre_dispatch)\n\u001b[0;32m    809\u001b[0m fit_and_score_kwargs \u001b[38;5;241m=\u001b[39m \u001b[38;5;28mdict\u001b[39m(\n\u001b[0;32m    810\u001b[0m     scorer\u001b[38;5;241m=\u001b[39mscorers,\n\u001b[0;32m    811\u001b[0m     fit_params\u001b[38;5;241m=\u001b[39mfit_params,\n\u001b[1;32m   (...)\u001b[0m\n\u001b[0;32m    817\u001b[0m     verbose\u001b[38;5;241m=\u001b[39m\u001b[38;5;28mself\u001b[39m\u001b[38;5;241m.\u001b[39mverbose,\n\u001b[0;32m    818\u001b[0m )\n",
      "File \u001b[1;32m~\\anaconda3\\lib\\site-packages\\sklearn\\base.py:76\u001b[0m, in \u001b[0;36mclone\u001b[1;34m(estimator, safe)\u001b[0m\n\u001b[0;32m     70\u001b[0m             \u001b[38;5;28;01mraise\u001b[39;00m \u001b[38;5;167;01mTypeError\u001b[39;00m(\n\u001b[0;32m     71\u001b[0m                 \u001b[38;5;124m\"\u001b[39m\u001b[38;5;124mCannot clone object. \u001b[39m\u001b[38;5;124m\"\u001b[39m\n\u001b[0;32m     72\u001b[0m                 \u001b[38;5;241m+\u001b[39m \u001b[38;5;124m\"\u001b[39m\u001b[38;5;124mYou should provide an instance of \u001b[39m\u001b[38;5;124m\"\u001b[39m\n\u001b[0;32m     73\u001b[0m                 \u001b[38;5;241m+\u001b[39m \u001b[38;5;124m\"\u001b[39m\u001b[38;5;124mscikit-learn estimator instead of a class.\u001b[39m\u001b[38;5;124m\"\u001b[39m\n\u001b[0;32m     74\u001b[0m             )\n\u001b[0;32m     75\u001b[0m         \u001b[38;5;28;01melse\u001b[39;00m:\n\u001b[1;32m---> 76\u001b[0m             \u001b[38;5;28;01mraise\u001b[39;00m \u001b[38;5;167;01mTypeError\u001b[39;00m(\n\u001b[0;32m     77\u001b[0m                 \u001b[38;5;124m\"\u001b[39m\u001b[38;5;124mCannot clone object \u001b[39m\u001b[38;5;124m'\u001b[39m\u001b[38;5;132;01m%s\u001b[39;00m\u001b[38;5;124m'\u001b[39m\u001b[38;5;124m (type \u001b[39m\u001b[38;5;132;01m%s\u001b[39;00m\u001b[38;5;124m): \u001b[39m\u001b[38;5;124m\"\u001b[39m\n\u001b[0;32m     78\u001b[0m                 \u001b[38;5;124m\"\u001b[39m\u001b[38;5;124mit does not seem to be a scikit-learn \u001b[39m\u001b[38;5;124m\"\u001b[39m\n\u001b[0;32m     79\u001b[0m                 \u001b[38;5;124m\"\u001b[39m\u001b[38;5;124mestimator as it does not implement a \u001b[39m\u001b[38;5;124m\"\u001b[39m\n\u001b[0;32m     80\u001b[0m                 \u001b[38;5;124m\"\u001b[39m\u001b[38;5;124m'\u001b[39m\u001b[38;5;124mget_params\u001b[39m\u001b[38;5;124m'\u001b[39m\u001b[38;5;124m method.\u001b[39m\u001b[38;5;124m\"\u001b[39m \u001b[38;5;241m%\u001b[39m (\u001b[38;5;28mrepr\u001b[39m(estimator), \u001b[38;5;28mtype\u001b[39m(estimator))\n\u001b[0;32m     81\u001b[0m             )\n\u001b[0;32m     83\u001b[0m klass \u001b[38;5;241m=\u001b[39m estimator\u001b[38;5;241m.\u001b[39m\u001b[38;5;18m__class__\u001b[39m\n\u001b[0;32m     84\u001b[0m new_object_params \u001b[38;5;241m=\u001b[39m estimator\u001b[38;5;241m.\u001b[39mget_params(deep\u001b[38;5;241m=\u001b[39m\u001b[38;5;28;01mFalse\u001b[39;00m)\n",
      "\u001b[1;31mTypeError\u001b[0m: Cannot clone object 'ALS_7d968b851f8c' (type <class 'pyspark.ml.recommendation.ALS'>): it does not seem to be a scikit-learn estimator as it does not implement a 'get_params' method."
     ]
    }
   ],
   "source": [
    "\n",
    "rf_params = {'seed': [5,0,1,8],\n",
    "    'rank': [10,50,200],\n",
    "    'iteration': [10,50,200],\n",
    "    'lambda': [0.01,0.1],\n",
    "    }\n",
    "\n",
    "als_gridcv_model = GridSearchCV(estimator=als , param_grid=rf_params , cv=5,scoring='accuracy', n_jobs=-1, verbose=2).fit(x_train,y_train)\n",
    "\n",
    "print('rf gridcv model accuracy score = {}'.format(als_gridcv_model.best_params_))"
   ]
  },
  {
   "cell_type": "code",
   "execution_count": 22,
   "id": "e6a1ed98-3e5c-4416-be16-171ef449dbcb",
   "metadata": {},
   "outputs": [
    {
     "name": "stdout",
     "output_type": "stream",
     "text": [
      "+-------+-------+------+----------+\n",
      "|book_id|user_id|rating|prediction|\n",
      "+-------+-------+------+----------+\n",
      "|      1|   1169|     4|  3.930167|\n",
      "|      1|   5461|     3| 4.3513885|\n",
      "|      1|  10140|     4| 3.4066544|\n",
      "|      1|  10335|     4|  4.001644|\n",
      "|      1|  10944|     5| 4.2720704|\n",
      "|      1|  11854|     4|  4.080465|\n",
      "|      1|  16377|     4|  4.693045|\n",
      "|      1|  16913|     5| 4.3627496|\n",
      "|      1|  18031|     5| 4.9047494|\n",
      "|      1|  18313|     5| 4.9561167|\n",
      "+-------+-------+------+----------+\n",
      "only showing top 10 rows\n",
      "\n"
     ]
    }
   ],
   "source": [
    "prediction=model.transform(validation_df)\n",
    "prediction.show(n=10)"
   ]
  },
  {
   "cell_type": "code",
   "execution_count": 23,
   "id": "fad48728-a084-4596-bb0c-292fcf8464aa",
   "metadata": {},
   "outputs": [],
   "source": [
    "df_predict=prediction.toPandas()"
   ]
  },
  {
   "cell_type": "code",
   "execution_count": 24,
   "id": "ba5d8a44-7b5c-4b55-a3b1-d82ce4d56129",
   "metadata": {
    "tags": []
   },
   "outputs": [
    {
     "data": {
      "text/html": [
       "<div>\n",
       "<style scoped>\n",
       "    .dataframe tbody tr th:only-of-type {\n",
       "        vertical-align: middle;\n",
       "    }\n",
       "\n",
       "    .dataframe tbody tr th {\n",
       "        vertical-align: top;\n",
       "    }\n",
       "\n",
       "    .dataframe thead th {\n",
       "        text-align: right;\n",
       "    }\n",
       "</style>\n",
       "<table border=\"1\" class=\"dataframe\">\n",
       "  <thead>\n",
       "    <tr style=\"text-align: right;\">\n",
       "      <th></th>\n",
       "      <th>book_id</th>\n",
       "      <th>user_id</th>\n",
       "      <th>rating</th>\n",
       "      <th>prediction</th>\n",
       "    </tr>\n",
       "  </thead>\n",
       "  <tbody>\n",
       "    <tr>\n",
       "      <th>0</th>\n",
       "      <td>2</td>\n",
       "      <td>32592</td>\n",
       "      <td>4</td>\n",
       "      <td>4.184015</td>\n",
       "    </tr>\n",
       "    <tr>\n",
       "      <th>1</th>\n",
       "      <td>3</td>\n",
       "      <td>32592</td>\n",
       "      <td>5</td>\n",
       "      <td>3.553391</td>\n",
       "    </tr>\n",
       "    <tr>\n",
       "      <th>2</th>\n",
       "      <td>6</td>\n",
       "      <td>35982</td>\n",
       "      <td>2</td>\n",
       "      <td>3.782817</td>\n",
       "    </tr>\n",
       "    <tr>\n",
       "      <th>3</th>\n",
       "      <td>7</td>\n",
       "      <td>19984</td>\n",
       "      <td>5</td>\n",
       "      <td>4.974205</td>\n",
       "    </tr>\n",
       "    <tr>\n",
       "      <th>4</th>\n",
       "      <td>8</td>\n",
       "      <td>32592</td>\n",
       "      <td>4</td>\n",
       "      <td>3.253865</td>\n",
       "    </tr>\n",
       "  </tbody>\n",
       "</table>\n",
       "</div>"
      ],
      "text/plain": [
       "   book_id  user_id  rating  prediction\n",
       "0        2    32592       4    4.184015\n",
       "1        3    32592       5    3.553391\n",
       "2        6    35982       2    3.782817\n",
       "3        7    19984       5    4.974205\n",
       "4        8    32592       4    3.253865"
      ]
     },
     "execution_count": 24,
     "metadata": {},
     "output_type": "execute_result"
    }
   ],
   "source": [
    "df_predict.head()"
   ]
  },
  {
   "cell_type": "code",
   "execution_count": 25,
   "id": "6b94faf0-9627-4dee-91d6-4ea92dfb4839",
   "metadata": {},
   "outputs": [
    {
     "data": {
      "text/plain": [
       "<AxesSubplot:>"
      ]
     },
     "execution_count": 25,
     "metadata": {},
     "output_type": "execute_result"
    },
    {
     "data": {
      "image/png": "[encoded data removed]",
      "text/plain": [
       "<Figure size 432x288 with 1 Axes>"
      ]
     },
     "metadata": {
      "needs_background": "light"
     },
     "output_type": "display_data"
    }
   ],
   "source": [
    "df_predict[\"prediction\"].hist()"
   ]
  },
  {
   "cell_type": "code",
   "execution_count": 26,
   "id": "43f16a94-0c9b-4862-a0d8-389710963d97",
   "metadata": {},
   "outputs": [],
   "source": [
    "#sns.countplot(df_predict[\"prediction\"])"
   ]
  },
  {
   "cell_type": "code",
   "execution_count": 35,
   "id": "ec101c1a-4e22-40bd-94b1-0887e3432b8f",
   "metadata": {},
   "outputs": [
    {
     "name": "stdout",
     "output_type": "stream",
     "text": [
      "+-------+--------------------+----------+\n",
      "|user_id|               title|prediction|\n",
      "+-------+--------------------+----------+\n",
      "|  32592|Harry Potter and ...| 4.1840153|\n",
      "|  32592|Harry Potter and ...|  3.553391|\n",
      "|  35982|Harry Potter and ...| 3.7828174|\n",
      "|  32592|Harry Potter Boxe...| 3.2538655|\n",
      "|  32592|I'm a Stranger He...|  4.324193|\n",
      "+-------+--------------------+----------+\n",
      "only showing top 5 rows\n",
      "\n"
     ]
    }
   ],
   "source": [
    "prediction.join(df_books, \"book_id\").select(\"user_id\",\"title\",\"prediction\").show(n=5)"
   ]
  },
  {
   "cell_type": "code",
   "execution_count": 28,
   "id": "8efa0f7e-4fae-4bcb-a4c6-a2cb688fa631",
   "metadata": {},
   "outputs": [
    {
     "name": "stdout",
     "output_type": "stream",
     "text": [
      "+-------+--------------------+--------------------+----------+\n",
      "|user_id|               title|           image_url|prediction|\n",
      "+-------+--------------------+--------------------+----------+\n",
      "|  35982|The Language Inst...|https://s.gr-asse...|  3.297205|\n",
      "|  35982|The Door Into Summer|https://images.gr...| 3.0120835|\n",
      "|  35982|Harry Potter and ...|https://images.gr...| 3.7828174|\n",
      "|  35982|The Portrait of a...|https://images.gr...| 3.5012176|\n",
      "+-------+--------------------+--------------------+----------+\n",
      "\n"
     ]
    }
   ],
   "source": [
    "one_user_predict=prediction.filter(col(\"user_id\")==35982).join(df_books , \"book_id\").select(\"user_id\",\"title\",\"image_url\",\"prediction\")\n",
    "one_user_predict.show()"
   ]
  },
  {
   "cell_type": "code",
   "execution_count": 29,
   "id": "ba7e3716-ba2a-42a2-8349-68630b6fac90",
   "metadata": {},
   "outputs": [
    {
     "name": "stdout",
     "output_type": "stream",
     "text": [
      "The Language Instinct: How the Mind Creates Language\n",
      "https://s.gr-assets.com/assets/nophoto/book/111x148-bcc042a9c91a29c1d680899eff700a03.png\n",
      "*******************************************************************************************************\n",
      "The Door Into Summer\n",
      "https://images.gr-assets.com/books/1342241886m/348.jpg\n",
      "*******************************************************************************************************\n",
      "Harry Potter and the Goblet of Fire (Harry Potter, #4)\n",
      "https://images.gr-assets.com/books/1361482611m/6.jpg\n",
      "*******************************************************************************************************\n",
      "The Portrait of a Lady\n",
      "https://images.gr-assets.com/books/1502148606m/264.jpg\n",
      "*******************************************************************************************************\n"
     ]
    }
   ],
   "source": [
    "for book in one_user_predict.take(10):\n",
    "    print(book.title)\n",
    "    print(book.image_url)\n",
    "    print(\"*******************************************************************************************************\")"
   ]
  },
  {
   "cell_type": "code",
   "execution_count": 30,
   "id": "a81a2ed9-8b92-4d2d-97c7-b55edc2a1a02",
   "metadata": {},
   "outputs": [
    {
     "name": "stdout",
     "output_type": "stream",
     "text": [
      "+-------+------------------------------------------------------------+\n",
      "|user_id|book_id                                                     |\n",
      "+-------+------------------------------------------------------------+\n",
      "|1      |[9842, 6920, 721, 862, 5207, 4708, 6590, 5580, 1788, 7081]  |\n",
      "|2      |[9260, 5333, 8200, 5252, 4352, 8035, 9842, 3243, 7417, 9320]|\n",
      "|4      |[7373, 4497, 7569, 9050, 5349, 8703, 4850, 7716, 9552, 7327]|\n",
      "|5      |[9842, 4708, 8913, 7988, 862, 6590, 2001, 9076, 9569, 1471] |\n",
      "|6      |[4256, 8362, 3692, 6932, 3491, 9006, 1047, 6751, 5376, 2590]|\n",
      "|7      |[7401, 8818, 1380, 983, 3457, 3491, 3628, 568, 1851, 7440]  |\n",
      "|8      |[5554, 6558, 2439, 103, 6378, 85, 5344, 896, 1908, 3736]    |\n",
      "|9      |[3248, 6876, 9842, 6920, 8831, 4336, 2958, 5207, 6591, 3746]|\n",
      "|10     |[4653, 5492, 7440, 4622, 8831, 3206, 1462, 2648, 4, 4301]   |\n",
      "|11     |[2590, 6659, 3885, 9032, 7629, 3920, 6927, 9076, 3368, 4464]|\n",
      "+-------+------------------------------------------------------------+\n",
      "only showing top 10 rows\n",
      "\n"
     ]
    }
   ],
   "source": [
    "userRecommnet=model.recommendForAllUsers(10)\n",
    "bookRecomment=model.recommendForAllItems(10)\n",
    "\n",
    "userRecommnet.select(\"user_id\",\"recommendations.book_id\").show(10,False)"
   ]
  },
  {
   "cell_type": "code",
   "execution_count": 31,
   "id": "630a8b3f-ea88-45df-978a-84a98d6418b3",
   "metadata": {},
   "outputs": [
    {
     "name": "stdout",
     "output_type": "stream",
     "text": [
      "root\n",
      " |-- user_id: integer (nullable = false)\n",
      " |-- recommendations: array (nullable = true)\n",
      " |    |-- element: struct (containsNull = true)\n",
      " |    |    |-- book_id: integer (nullable = true)\n",
      " |    |    |-- rating: float (nullable = true)\n",
      "\n"
     ]
    }
   ],
   "source": [
    "userRecommnet.printSchema()"
   ]
  },
  {
   "cell_type": "code",
   "execution_count": 32,
   "id": "88a0b8bf-6166-49ee-9d9d-b18ab1385fee",
   "metadata": {},
   "outputs": [
    {
     "name": "stdout",
     "output_type": "stream",
     "text": [
      "+-------+----------------------------------------------------------------------+\n",
      "|book_id|user_id                                                               |\n",
      "+-------+----------------------------------------------------------------------+\n",
      "|1      |[50307, 15449, 1203, 24127, 5527, 26446, 35888, 41862, 26605, 20111]  |\n",
      "|2      |[30757, 41862, 50769, 50505, 28724, 50307, 5527, 1203, 11296, 51341]  |\n",
      "|3      |[50307, 29054, 18189, 28724, 50981, 34886, 17003, 23180, 20124, 43127]|\n",
      "|4      |[6539, 30699, 30446, 50505, 2613, 26605, 50307, 32556, 1203, 36162]   |\n",
      "|5      |[50307, 10923, 24313, 50333, 36162, 9958, 52743, 40790, 36476, 39253] |\n",
      "|6      |[50307, 1203, 42821, 34879, 50192, 9958, 22044, 30126, 49974, 32556]  |\n",
      "|7      |[50307, 41819, 40911, 50124, 15449, 20715, 32647, 30525, 27951, 24388]|\n",
      "|8      |[50333, 36162, 51341, 50307, 24313, 24127, 15449, 39253, 38168, 43150]|\n",
      "|9      |[51193, 18189, 50624, 32731, 32444, 20992, 11548, 37073, 7817, 27801] |\n",
      "|10     |[44715, 50307, 50505, 39253, 25211, 6539, 5527, 26586, 8534, 51341]   |\n",
      "+-------+----------------------------------------------------------------------+\n",
      "only showing top 10 rows\n",
      "\n"
     ]
    }
   ],
   "source": [
    "bookRecomment.select(\"book_id\",\"recommendations.user_id\").show(10,False)"
   ]
  },
  {
   "cell_type": "code",
   "execution_count": 33,
   "id": "fc3de530-0001-4e99-9dd5-3246d15c0bff",
   "metadata": {},
   "outputs": [
    {
     "name": "stdout",
     "output_type": "stream",
     "text": [
      "root\n",
      " |-- book_id: integer (nullable = false)\n",
      " |-- recommendations: array (nullable = true)\n",
      " |    |-- element: struct (containsNull = true)\n",
      " |    |    |-- user_id: integer (nullable = true)\n",
      " |    |    |-- rating: float (nullable = true)\n",
      "\n"
     ]
    }
   ],
   "source": [
    "bookRecomment.printSchema()"
   ]
  },
  {
   "cell_type": "code",
   "execution_count": null,
   "id": "5045572b-8254-4340-a7d1-94bb17fe9c2c",
   "metadata": {},
   "outputs": [],
   "source": [
    "print(endTime-startTime)"
   ]
  }
 ],
 "metadata": {
  "kernelspec": {
   "display_name": "Python 3 (ipykernel)",
   "language": "python",
   "name": "python3"
  },
  "language_info": {
   "codemirror_mode": {
    "name": "ipython",
    "version": 3
   },
   "file_extension": ".py",
   "mimetype": "text/x-python",
   "name": "python",
   "nbconvert_exporter": "python",
   "pygments_lexer": "ipython3",
   "version": "3.9.12"
  }
 },
 "nbformat": 4,
 "nbformat_minor": 5
}
